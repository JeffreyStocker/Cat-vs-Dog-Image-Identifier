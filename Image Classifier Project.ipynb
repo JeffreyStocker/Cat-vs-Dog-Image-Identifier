{
 "cells": [
  {
   "cell_type": "markdown",
   "metadata": {},
   "source": [
    "# Developing an AI application\n",
    "\n",
    "Going forward, AI algorithms will be incorporated into more and more everyday applications. For example, you might want to include an image classifier in a smart phone app. To do this, you'd use a deep learning model trained on hundreds of thousands of images as part of the overall application architecture. A large part of software development in the future will be using these types of models as common parts of applications. \n",
    "\n",
    "In this project, you'll train an image classifier to recognize different species of flowers. You can imagine using something like this in a phone app that tells you the name of the flower your camera is looking at. In practice you'd train this classifier, then export it for use in your application. We'll be using [this dataset](http://www.robots.ox.ac.uk/~vgg/data/flowers/102/index.html) of 102 flower categories, you can see a few examples below. \n",
    "\n",
    "<img src='assets/Flowers.png' width=500px>\n",
    "\n",
    "The project is broken down into multiple steps:\n",
    "\n",
    "* Load and preprocess the image dataset\n",
    "* Train the image classifier on your dataset\n",
    "* Use the trained classifier to predict image content\n",
    "\n",
    "We'll lead you through each part which you'll implement in Python.\n",
    "\n",
    "When you've completed this project, you'll have an application that can be trained on any set of labeled images. Here your network will be learning about flowers and end up as a command line application. But, what you do with your new skills depends on your imagination and effort in building a dataset. For example, imagine an app where you take a picture of a car, it tells you what the make and model is, then looks up information about it. Go build your own dataset and make something new.\n",
    "\n",
    "First up is importing the packages you'll need. It's good practice to keep all the imports at the beginning of your code. As you work through this notebook and find you need to import a package, make sure to add the import up here."
   ]
  },
  {
   "cell_type": "code",
   "execution_count": 1,
   "metadata": {},
   "outputs": [],
   "source": [
    "# Imports here\n",
    "from torch.cuda import is_available as is_cuda_available\n",
    "import matplotlib.pyplot as plt\n",
    "import torch\n",
    "from torch import nn, optim\n",
    "from torchvision import datasets, transforms, models\n",
    "import torch.nn.functional as F\n",
    "from torch.utils.data import DataLoader\n",
    "import datetime \n",
    "from pathlib import Path\n",
    "import os\n",
    "\n",
    "start_time = datetime.datetime.now()\n",
    "\n",
    "ImageFolder = datasets.ImageFolder\n",
    "device = \"cuda\" if is_cuda_available() else 'cpu'"
   ]
  },
  {
   "cell_type": "markdown",
   "metadata": {},
   "source": [
    "## Load the data\n",
    "\n",
    "Here you'll use `torchvision` to load the data ([documentation](http://pytorch.org/docs/0.3.0/torchvision/index.html)). The data should be included alongside this notebook, otherwise you can [download it here](https://s3.amazonaws.com/content.udacity-data.com/nd089/flower_data.tar.gz). The dataset is split into three parts, training, validation, and testing. For the training, you'll want to apply transformations such as random scaling, cropping, and flipping. This will help the network generalize leading to better performance. You'll also need to make sure the input data is resized to 224x224 pixels as required by the pre-trained networks.\n",
    "\n",
    "The validation and testing sets are used to measure the model's performance on data it hasn't seen yet. For this you don't want any scaling or rotation transformations, but you'll need to resize then crop the images to the appropriate size.\n",
    "\n",
    "The pre-trained networks you'll use were trained on the ImageNet dataset where each color channel was normalized separately. For all three sets you'll need to normalize the means and standard deviations of the images to what the network expects. For the means, it's `[0.485, 0.456, 0.406]` and for the standard deviations `[0.229, 0.224, 0.225]`, calculated from the ImageNet images.  These values will shift each color channel to be centered at 0 and range from -1 to 1.\n",
    " "
   ]
  },
  {
   "cell_type": "code",
   "execution_count": 2,
   "metadata": {},
   "outputs": [],
   "source": [
    "data_dir = 'flowers'\n",
    "train_dir = data_dir + '/train'\n",
    "valid_dir = data_dir + '/valid'\n",
    "test_dir = data_dir + '/test'"
   ]
  },
  {
   "cell_type": "code",
   "execution_count": 3,
   "metadata": {},
   "outputs": [],
   "source": [
    "# TODO: Define your transforms for the training, validation, and testing sets\n",
    "size = 256\n",
    "data_transforms_train = transforms.Compose([\n",
    "                                      transforms.RandomHorizontalFlip(),\n",
    "                                      transforms.Resize(256),\n",
    "                                      transforms.CenterCrop(224),\n",
    "                                    #   transforms.RandomVerticalFlip(),\n",
    "                                    #   transforms.RandomRotation(30),\n",
    "                                      transforms.ToTensor(),\n",
    "                                      transforms.Normalize(mean=[0.485, 0.456, 0.406], std=[0.229, 0.224, 0.225])  \n",
    "                                      ])\n",
    "\n",
    "data_transforms_validation = transforms.Compose([\n",
    "                                                transforms.Resize(256),\n",
    "                                                transforms.CenterCrop(224),\n",
    "                                                transforms.ToTensor(),\n",
    "                                                transforms.Normalize(mean=[0.485, 0.456, 0.406], std=[0.229, 0.224, 0.225])  \n",
    "\n",
    "                                                 ])\n",
    "\n",
    "data_transforms_test = data_transforms_validation\n",
    "                                            \n",
    "# TODO: Load the datasets with ImageFolder\n",
    "image_datasets_train = ImageFolder(train_dir, transform=data_transforms_train)\n",
    "image_datasets_validation = ImageFolder(valid_dir, transform=data_transforms_validation)\n",
    "image_datasets_test = ImageFolder(test_dir, transform=data_transforms_test)\n",
    "\n",
    "# TODO: Using the image datasets and the trainforms, define the dataloaders\n",
    "dataloaders_train = DataLoader(image_datasets_train, batch_size = 128, shuffle=True)\n",
    "dataloaders_validation = DataLoader(image_datasets_validation, batch_size = 32, shuffle=True)\n",
    "dataloaders_test = DataLoader(image_datasets_test, batch_size = 32, shuffle=True)"
   ]
  },
  {
   "cell_type": "markdown",
   "metadata": {},
   "source": [
    "### Label mapping\n",
    "\n",
    "You'll also need to load in a mapping from category label to category name. You can find this in the file `cat_to_name.json`. It's a JSON object which you can read in with the [`json` module](https://docs.python.org/2/library/json.html). This will give you a dictionary mapping the integer encoded categories to the actual names of the flowers."
   ]
  },
  {
   "cell_type": "code",
   "execution_count": 4,
   "metadata": {},
   "outputs": [
    {
     "output_type": "stream",
     "name": "stdout",
     "text": "102\n"
    }
   ],
   "source": [
    "import json\n",
    "\n",
    "with open('cat_to_name.json', 'r') as f:\n",
    "    cat_to_name = json.load(f)\n",
    "print(len(cat_to_name))"
   ]
  },
  {
   "cell_type": "markdown",
   "metadata": {},
   "source": [
    "# Building and training the classifier\n",
    "\n",
    "Now that the data is ready, it's time to build and train the classifier. As usual, you should use one of the pretrained models from `torchvision.models` to get the image features. Build and train a new feed-forward classifier using those features.\n",
    "\n",
    "We're going to leave this part up to you. Refer to [the rubric](https://review.udacity.com/#!/rubrics/1663/view) for guidance on successfully completing this section. Things you'll need to do:\n",
    "\n",
    "* Load a [pre-trained network](http://pytorch.org/docs/master/torchvision/models.html) (If you need a starting point, the VGG networks work great and are straightforward to use)\n",
    "* Define a new, untrained feed-forward network as a classifier, using ReLU activations and dropout\n",
    "* Train the classifier layers using backpropagation using the pre-trained network to get the features\n",
    "* Track the loss and accuracy on the validation set to determine the best hyperparameters\n",
    "\n",
    "We've left a cell open for you below, but use as many as you need. Our advice is to break the problem up into smaller parts you can run separately. Check that each part is doing what you expect, then move on to the next. You'll likely find that as you work through each part, you'll need to go back and modify your previous code. This is totally normal!\n",
    "\n",
    "When training make sure you're updating only the weights of the feed-forward network. You should be able to get the validation accuracy above 70% if you build everything right. Make sure to try different hyperparameters (learning rate, units in the classifier, epochs, etc) to find the best model. Save those hyperparameters to use as default values in the next part of the project.\n",
    "\n",
    "One last important tip if you're using the workspace to run your code: To avoid having your workspace disconnect during the long-running tasks in this notebook, please read in the earlier page in this lesson called Intro to\n",
    "GPU Workspaces about Keeping Your Session Active. You'll want to include code from the workspace_utils.py module.\n",
    "\n",
    "**Note for Workspace users:** If your network is over 1 GB when saved as a checkpoint, there might be issues with saving backups in your workspace. Typically this happens with wide dense layers after the convolutional layers. If your saved checkpoint is larger than 1 GB (you can open a terminal and check with `ls -lh`), you should reduce the size of your hidden layers and train again."
   ]
  },
  {
   "cell_type": "markdown",
   "metadata": {},
   "source": [
    "Part 1 - Development Notebook\n",
    "\n",
    "|Done?|Criteria |\tSpecification|\n",
    "|--| ---------| -----|\n",
    "|In Progress|Package Imports \t                |All the necessary packages and modules are imported in the first cell of the notebook|\n",
    "|In Progress|Training data augmentation \t    |torchvision transforms are used to augment the training data with random scaling, rotations, mirroring, and/or cropping|\n",
    "|Done       |Data normalization \t            |The training, validation, and testing data is appropriately cropped and normalized|\n",
    "|     Done  |Data loading \t                    |The data for each set (train, validation, test) is loaded with torchvision's ImageFolder|\n",
    "|Done       |Data batching \t                    |The data for each set is loaded with torchvision's DataLoader|\n",
    "|    Done   |Pretrained Network \t            |A pretrained network such as VGG16 is loaded from torchvision.models and the parameters are frozen|\n",
    "|           |Feedforward Classifier \t        |A new feedforward network is defined for use as a classifier using the features as input|\n",
    "|           |Training the network \t            |The parameters of the feedforward classifier are appropriately trained, while the parameters of the feature network are left static|\n",
    "|           |Validation Loss and Accuracy \t    |During training, the validation loss and accuracy are displayed|\n",
    "|           |Testing Accuracy \t                |The network's accuracy is measured on the test data|\n",
    "|           |Saving the model \t                |The trained model is saved as a checkpoint along with associated hyperparameters and the class_to_idx dictionary|\n",
    "|           |Loading checkpoints \t            |There is a function that successfully loads a checkpoint and rebuilds the model|\n",
    "|           |Image Processing \t                |The process_image function successfully converts a PIL image into an object that can be used as input to a trained model|\n",
    "|           |Class Prediction \t                |The predict function successfully takes the path to an image and a checkpoint, then returns the top K most probably classes for that image|\n",
    "|           |Sanity Checking with matplotlib \t|A matplotlib figure is created displaying an image and its associated top 5 most probable classes with actual flower names|"
   ]
  },
  {
   "cell_type": "code",
   "execution_count": 5,
   "metadata": {},
   "outputs": [],
   "source": [
    "# TODO: Build and train your network\n",
    "def build_model_vgg11():\n",
    "    model = models.vgg11(pretrained=True)\n",
    "\n",
    "    for param in model.parameters():\n",
    "        param.requires_grad = False\n",
    "\n",
    "    number_of_inputs = 25088\n",
    "    number_of_Classifications = len(cat_to_name)\n",
    "\n",
    "    classifier = nn.Sequential(\n",
    "        nn.Linear(number_of_inputs, 5000),\n",
    "        nn.ReLU(),\n",
    "        dropout(p=0.2),\n",
    "        nn.Linear(5000, 2000),\n",
    "        nn.ReLU(),\n",
    "        dropout(p=0.2),\n",
    "        nn.Linear(2000, 1000),\n",
    "        nn.ReLU(),\n",
    "        dropout(p=0.2),\n",
    "        nn.Linear(1000, number_of_Classifications),\n",
    "        nn.LogSoftmax(dim=1)\n",
    "    )\n",
    "\n",
    "    model.classifier = classifier\n",
    "\n",
    "    return model"
   ]
  },
  {
   "cell_type": "code",
   "execution_count": 6,
   "metadata": {},
   "outputs": [],
   "source": [
    "def build_model_densenet121():\n",
    "    # TODO: Build and train your network 2\n",
    "    model = models.densenet121(pretrained=True)\n",
    "\n",
    "    for param in model.parameters():\n",
    "        param.requires_grad = False\n",
    "\n",
    "    number_of_inputs = 1024\n",
    "    number_of_Classifications = len(cat_to_name)\n",
    "\n",
    "    classifier = nn.Sequential(\n",
    "        nn.Linear(number_of_inputs, 512),\n",
    "        nn.ReLU(),\n",
    "        nn.Dropout(p=0.2),\n",
    "        nn.Linear(512, 256),\n",
    "        nn.ReLU(),\n",
    "        nn.Dropout(p=0.2),\n",
    "        nn.Linear(256, number_of_Classifications),\n",
    "        nn.LogSoftmax(dim=1)\n",
    "    )\n",
    "\n",
    "    model.classifier = classifier\n",
    "\n",
    "    return model"
   ]
  },
  {
   "cell_type": "code",
   "execution_count": 7,
   "metadata": {},
   "outputs": [],
   "source": [
    "# model = build_model_vgg11()\n",
    "model = build_model_densenet121()\n"
   ]
  },
  {
   "cell_type": "code",
   "execution_count": 8,
   "metadata": {},
   "outputs": [],
   "source": [
    "class Model_Network(nn.Module):\n",
    "    def __init__(self, layer_sizes, activation_modules, dropout_percent = 0.05):\n",
    "        super().__init__()\n",
    "        self._params = {\n",
    "            'inputs': inputs,\n",
    "            'outputs': outputs,\n",
    "            'process_modules': process_modules,\n",
    "            'activation_modules': activation_modules\n",
    "        }\n",
    "\n",
    "        sizes = zip(layer_sizes[:-1], layer_sizes[1:])\n",
    "        self.layers = nn.Sequential([nn.Linear(lower, upper) for lower, upper in sizes])\n",
    "\n",
    "        self.activation = nn.Sequential(activation_modules)\n",
    "        self.dropout = nn.Dropout(p=dropout_percent)\n",
    "\n",
    "    def forward(self, training_data, output_proccess_module = F.log_softmax):\n",
    "        i = 0\n",
    "        for layer in self.layers:\n",
    "            x = layer(x)\n",
    "            x = self.dropout(x)\n",
    "        return output_proccess_module(x) if output_proccess_module else x\n",
    "\n"
   ]
  },
  {
   "cell_type": "code",
   "execution_count": 9,
   "metadata": {},
   "outputs": [],
   "source": [
    "def train(model, criterion, optimizer, training_data, test_data, epochs = 2, learning_rate = .003, should_save_checkpoint = True):\n",
    "    def save_function():\n",
    "        return save_checkpoint(model, 'vgg11', number_of_inputs, number_of_Classifications, epochs = epochs)\n",
    "\n",
    "    model.to(device)\n",
    "    model.train()\n",
    "\n",
    "    criterion = criterion()\n",
    "    optimizer = optimizer(model.classifier.parameters(), learning_rate)\n",
    "\n",
    "    steps = 0\n",
    "    train_losses, test_losses = [], []\n",
    "    print('***** Start Training *****')\n",
    "    tenth_steps = int(len(test_data) / 10)\n",
    "\n",
    "    for epoch in range(epochs):\n",
    "        running_loss = 0\n",
    "\n",
    "        for images, labels in training_data:\n",
    "            steps += 1\n",
    "            optimizer.zero_grad()\n",
    "\n",
    "            images, labels = images.to(device), labels.to(device)\n",
    "\n",
    "            log_percent = model.forward(images)\n",
    "            loss = criterion(log_percent, labels)\n",
    "\n",
    "            loss.backward()\n",
    "            optimizer.step()\n",
    "            \n",
    "            running_loss += loss.item()\n",
    "            break\n",
    "            if steps % 5 == 0 or True:\n",
    "                pass\n",
    "\n",
    "        # test_loss = 0\n",
    "        # accuracy = 0\n",
    "\n",
    "        # model.eval()\n",
    "        # with torch.no_grad():\n",
    "        #     for images, labels in test_data:\n",
    "        #         images, labels = images.to(device), labels.to(device)\n",
    "        #         logps = model.forward(images)\n",
    "\n",
    "        #         loss = criterion(logps, labels)\n",
    "        #         test_loss += loss.item()\n",
    "\n",
    "        #         percent = torch.exp(logps)\n",
    "\n",
    "        #         top_p, top_class = percent.topk(1, dim=1)\n",
    "        #         equals = top_class == labels.view(*top_class.shape)\n",
    "        #         accuracy += torch.mean(equals.type(torch.FloatTensor))\n",
    "        # model.train()\n",
    "        test_loss, accuracy, losses_ = validate_model(model, test_data, criterion, test_loss, save_function)\n",
    "\n",
    "        train_losses.append(running_loss/len(training_data))\n",
    "        test_losses.append(test_loss/len(test_data))\n",
    "\n",
    "        if should_save_checkpoint:\n",
    "            save_function()\n",
    "\n",
    "        print('----------------------------------------')\n",
    "        print(f'E.: {epoch + 1}/{epochs} | '\n",
    "                f'Training Loss: {train_losses[-1]:.3f} | '\n",
    "                f'Test Loss: {test_losses[-1]:.3f} | '\n",
    "                f'Test Accuracy: {accuracy/len(test_data)* 100:.3f} | '\n",
    "                )\n",
    "    if should_save_checkpoint:\n",
    "        save_checkpoint(model, 'vgg11', number_of_inputs, number_of_Classifications, epochs = epochs)\n",
    "    print('***** Done Training *****')"
   ]
  },
  {
   "cell_type": "code",
   "execution_count": 23,
   "metadata": {},
   "outputs": [],
   "source": [
    "def validate_model(model, test_data, criterion, losses_ = None, save_func=None):\n",
    "    # test_loss = 0\n",
    "    # accuracy = 0\n",
    "\n",
    "    # model.eval()\n",
    "    # with torch.no_grad():\n",
    "    #     for images, labels in test_data:\n",
    "    #         images, labels = images.to(device), labels.to(device)\n",
    "    #         logps = model(images)\n",
    "\n",
    "    #         loss = criterion(logps, labels)\n",
    "    #         test_loss += loss.item()\n",
    "\n",
    "    #         percent = torch.exp(logps)\n",
    "\n",
    "    #         top_p, top_class = percent.topk(1, dim=1)\n",
    "    #         equals = top_class == labels.view(*top_class.shape)\n",
    "    #         accuracy += torch.mean(equals.type(torch.FloatTensor))\n",
    "\n",
    "    # train_losses.append(running_loss/len(training_data))\n",
    "    # test_losses.append(test_loss/len(test_data))\n",
    "\n",
    "    test_loss = 0\n",
    "    accuracy = 0\n",
    "\n",
    "    model.eval()\n",
    "    with torch.no_grad():\n",
    "        for images, labels in test_data:\n",
    "            images, labels = images.to(device), labels.to(device)\n",
    "            logps = model(images)\n",
    "\n",
    "            loss = criterion(logps, labels)\n",
    "            test_loss += loss.item()\n",
    "\n",
    "            percent = torch.exp(logps)\n",
    "\n",
    "            top_p, top_class = percent.topk(1, dim=1)\n",
    "            equals = top_class == labels.view(*top_class.shape)\n",
    "            accuracy += torch.mean(equals.type(torch.FloatTensor))\n",
    "    model.train()\n",
    "\n",
    "    accuracy = accuracy/len(test_data)* 100\n",
    "    \n",
    "    if losses_:\n",
    "        losses_.append(test_loss/len(test_data))\n",
    "\n",
    "    if save_func:\n",
    "        save_func()\n",
    "\n",
    "    return test_loss, accuracy, losses_"
   ]
  },
  {
   "cell_type": "code",
   "execution_count": 11,
   "metadata": {},
   "outputs": [],
   "source": [
    "def save_checkpoint(model, name, input_size, output_size, epochs = 0):\n",
    "    data = model.state_dict()\n",
    "    checkpoint = {\n",
    "        'epochs': epochs,\n",
    "        'date': start_time,\n",
    "        'input_size': input_size,\n",
    "        'output_size': output_size,\n",
    "        # 'hidden_layers': [each.out_features for each in model.hidden_layers],\n",
    "        'state_dict': data\n",
    "    }\n",
    "\n",
    "\n",
    "    path = \"/tmp/year\"\n",
    "\n",
    "    file_name = '{}_checkpoints_{}-e{}.pth'.format(name, start_time, epochs).replace(':', '-')\n",
    "    try:\n",
    "        torch.save(checkpoint, 'checkpoint/' + file_name)\n",
    "\n",
    "    except:\n",
    "        os.mkdir('checkpoint')\n",
    "        try:\n",
    "            torch.save(checkpoint, 'checkpoint/' + file_name)\n",
    "        except:\n",
    "            torch.save(checkpoint, file_name)\n",
    "            print('unable to save')\n",
    "\n"
   ]
  },
  {
   "cell_type": "code",
   "execution_count": 16,
   "metadata": {},
   "outputs": [],
   "source": [
    "def import_prev_training(model, filename):\n",
    "    data = torch.load(filename, map_location=device)\n",
    "    model.load_state_dict(data[\"state_dict\"])\n",
    "    print('Loaded: ', filename)\n",
    "    return model"
   ]
  },
  {
   "cell_type": "code",
   "execution_count": 17,
   "metadata": {},
   "outputs": [
    {
     "output_type": "stream",
     "name": "stdout",
     "text": "Loaded:  checkpoint/vgg11_checkpoints_2020-04-28 22-54-31.093050-e99.pth\n"
    }
   ],
   "source": [
    "model = import_prev_training(model, f'checkpoint/vgg11_checkpoints_2020-04-28 22-54-31.093050-e99.pth')\n",
    "\n",
    "# from workspace_utils import keep_awake\n",
    "\n",
    "# for i in keep_awake(range(5)): \n",
    "#     train(model, nn.NLLLoss, optim.Adam, dataloaders_train, dataloaders_test, learning_rate=0.003, epochs=99)"
   ]
  },
  {
   "cell_type": "markdown",
   "metadata": {},
   "source": [
    "## Testing your network\n",
    "\n",
    "It's good practice to test your trained network on test data, images the network has never seen either in training or validation. This will give you a good estimate for the model's performance on completely new images. Run the test images through the network and measure the accuracy, the same way you did validation. You should be able to reach around 70% accuracy on the test set if the model has been trained well."
   ]
  },
  {
   "cell_type": "code",
   "execution_count": 24,
   "metadata": {},
   "outputs": [
    {
     "output_type": "stream",
     "name": "stdout",
     "text": "34.0065735578537 tensor(60.0772) None\n30.70660036802292 tensor(65.1309) None\n"
    }
   ],
   "source": [
    "# TODO: Do validation on the test set\n",
    "test_loss, accuracy, test_losses = validate_model(model, dataloaders_test, nn.NLLLoss()) #def validate_model(model, test_data, criterion, train_losses = [], test_losses = []):\n",
    "print(test_loss, accuracy, test_losses)\n",
    "\n",
    "test_loss, accuracy, test_losses = validate_model(model, dataloaders_validation, nn.NLLLoss()) #def validate_model(model, test_data, criterion, train_losses = [], test_losses = []):\n",
    "\n",
    "# for images, labels in dataloaders_validation:\n",
    "#     prebuild_model\n",
    "#     print(prebuild_model(images))\n",
    "print(test_loss, accuracy, test_losses)"
   ]
  },
  {
   "cell_type": "markdown",
   "metadata": {},
   "source": [
    "## Save the checkpoint\n",
    "\n",
    "Now that your network is trained, save the model so you can load it later for making predictions. You probably want to save other things such as the mapping of classes to indices which you get from one of the image datasets: `image_datasets['train'].class_to_idx`. You can attach this to the model as an attribute which makes inference easier later on.\n",
    "\n",
    "```model.class_to_idx = image_datasets['train'].class_to_idx```\n",
    "\n",
    "Remember that you'll want to completely rebuild the model later so you can use it for inference. Make sure to include any information you need in the checkpoint. If you want to load the model and keep training, you'll want to save the number of epochs as well as the optimizer state, `optimizer.state_dict`. You'll likely want to use this trained model in the next part of the project, so best to save it now."
   ]
  },
  {
   "cell_type": "code",
   "execution_count": null,
   "metadata": {},
   "outputs": [],
   "source": [
    "# TODO: Save the checkpoint \n"
   ]
  },
  {
   "cell_type": "markdown",
   "metadata": {},
   "source": [
    "## Loading the checkpoint\n",
    "\n",
    "At this point it's good to write a function that can load a checkpoint and rebuild the model. That way you can come back to this project and keep working on it without having to retrain the network."
   ]
  },
  {
   "cell_type": "code",
   "execution_count": null,
   "metadata": {},
   "outputs": [],
   "source": [
    "# TODO: Write a function that loads a checkpoint and rebuilds the model"
   ]
  },
  {
   "cell_type": "markdown",
   "metadata": {},
   "source": [
    "# Inference for classification\n",
    "\n",
    "Now you'll write a function to use a trained network for inference. That is, you'll pass an image into the network and predict the class of the flower in the image. Write a function called `predict` that takes an image and a model, then returns the top $K$ most likely classes along with the probabilities. It should look like \n",
    "\n",
    "```python\n",
    "probs, classes = predict(image_path, model)\n",
    "print(probs)\n",
    "print(classes)\n",
    "> [ 0.01558163  0.01541934  0.01452626  0.01443549  0.01407339]\n",
    "> ['70', '3', '45', '62', '55']\n",
    "```\n",
    "\n",
    "First you'll need to handle processing the input image such that it can be used in your network. \n",
    "\n",
    "## Image Preprocessing\n",
    "\n",
    "You'll want to use `PIL` to load the image ([documentation](https://pillow.readthedocs.io/en/latest/reference/Image.html)). It's best to write a function that preprocesses the image so it can be used as input for the model. This function should process the images in the same manner used for training. \n",
    "\n",
    "First, resize the images where the shortest side is 256 pixels, keeping the aspect ratio. This can be done with the [`thumbnail`](http://pillow.readthedocs.io/en/3.1.x/reference/Image.html#PIL.Image.Image.thumbnail) or [`resize`](http://pillow.readthedocs.io/en/3.1.x/reference/Image.html#PIL.Image.Image.thumbnail) methods. Then you'll need to crop out the center 224x224 portion of the image.\n",
    "\n",
    "Color channels of images are typically encoded as integers 0-255, but the model expected floats 0-1. You'll need to convert the values. It's easiest with a Numpy array, which you can get from a PIL image like so `np_image = np.array(pil_image)`.\n",
    "\n",
    "As before, the network expects the images to be normalized in a specific way. For the means, it's `[0.485, 0.456, 0.406]` and for the standard deviations `[0.229, 0.224, 0.225]`. You'll want to subtract the means from each color channel, then divide by the standard deviation. \n",
    "\n",
    "And finally, PyTorch expects the color channel to be the first dimension but it's the third dimension in the PIL image and Numpy array. You can reorder dimensions using [`ndarray.transpose`](https://docs.scipy.org/doc/numpy-1.13.0/reference/generated/numpy.ndarray.transpose.html). The color channel needs to be first and retain the order of the other two dimensions."
   ]
  },
  {
   "cell_type": "code",
   "execution_count": null,
   "metadata": {},
   "outputs": [],
   "source": [
    "def process_image(image):\n",
    "    ''' Scales, crops, and normalizes a PIL image for a PyTorch model,\n",
    "        returns an Numpy array\n",
    "    '''\n",
    "    \n",
    "    # TODO: Process a PIL image for use in a PyTorch model"
   ]
  },
  {
   "cell_type": "markdown",
   "metadata": {},
   "source": [
    "To check your work, the function below converts a PyTorch tensor and displays it in the notebook. If your `process_image` function works, running the output through this function should return the original image (except for the cropped out portions)."
   ]
  },
  {
   "cell_type": "code",
   "execution_count": null,
   "metadata": {},
   "outputs": [],
   "source": [
    "def imshow(image, ax=None, title=None):\n",
    "    \"\"\"Imshow for Tensor.\"\"\"\n",
    "    if ax is None:\n",
    "        fig, ax = plt.subplots()\n",
    "    \n",
    "    # PyTorch tensors assume the color channel is the first dimension\n",
    "    # but matplotlib assumes is the third dimension\n",
    "    image = image.numpy().transpose((1, 2, 0))\n",
    "    \n",
    "    # Undo preprocessing\n",
    "    mean = np.array([0.485, 0.456, 0.406])\n",
    "    std = np.array([0.229, 0.224, 0.225])\n",
    "    image = std * image + mean\n",
    "    \n",
    "    # Image needs to be clipped between 0 and 1 or it looks like noise when displayed\n",
    "    image = np.clip(image, 0, 1)\n",
    "    \n",
    "    ax.imshow(image)\n",
    "    \n",
    "    return ax"
   ]
  },
  {
   "cell_type": "markdown",
   "metadata": {},
   "source": [
    "## Class Prediction\n",
    "\n",
    "Once you can get images in the correct format, it's time to write a function for making predictions with your model. A common practice is to predict the top 5 or so (usually called top-$K$) most probable classes. You'll want to calculate the class probabilities then find the $K$ largest values.\n",
    "\n",
    "To get the top $K$ largest values in a tensor use [`x.topk(k)`](http://pytorch.org/docs/master/torch.html#torch.topk). This method returns both the highest `k` probabilities and the indices of those probabilities corresponding to the classes. You need to convert from these indices to the actual class labels using `class_to_idx` which hopefully you added to the model or from an `ImageFolder` you used to load the data ([see here](#Save-the-checkpoint)). Make sure to invert the dictionary so you get a mapping from index to class as well.\n",
    "\n",
    "Again, this method should take a path to an image and a model checkpoint, then return the probabilities and classes.\n",
    "\n",
    "```python\n",
    "probs, classes = predict(image_path, model)\n",
    "print(probs)\n",
    "print(classes)\n",
    "> [ 0.01558163  0.01541934  0.01452626  0.01443549  0.01407339]\n",
    "> ['70', '3', '45', '62', '55']\n",
    "```"
   ]
  },
  {
   "cell_type": "code",
   "execution_count": null,
   "metadata": {},
   "outputs": [],
   "source": [
    "def predict(image_path, model, topk=5):\n",
    "    ''' Predict the class (or classes) of an image using a trained deep learning model.\n",
    "    '''\n",
    "    \n",
    "    # TODO: Implement the code to predict the class from an image file"
   ]
  },
  {
   "cell_type": "markdown",
   "metadata": {},
   "source": [
    "## Sanity Checking\n",
    "\n",
    "Now that you can use a trained model for predictions, check to make sure it makes sense. Even if the testing accuracy is high, it's always good to check that there aren't obvious bugs. Use `matplotlib` to plot the probabilities for the top 5 classes as a bar graph, along with the input image. It should look like this:\n",
    "\n",
    "<img src='assets/inference_example.png' width=300px>\n",
    "\n",
    "You can convert from the class integer encoding to actual flower names with the `cat_to_name.json` file (should have been loaded earlier in the notebook). To show a PyTorch tensor as an image, use the `imshow` function defined above."
   ]
  },
  {
   "cell_type": "code",
   "execution_count": null,
   "metadata": {},
   "outputs": [],
   "source": [
    "# TODO: Display an image along with the top 5 classes"
   ]
  }
 ],
 "metadata": {
  "kernelspec": {
   "display_name": "Python 3.6.10 64-bit ('torch': conda)",
   "language": "python",
   "name": "python361064bittorchcondae56dac7d4b4c4c5fb1fbdd25fbc44886"
  },
  "language_info": {
   "codemirror_mode": {
    "name": "ipython",
    "version": 3
   },
   "file_extension": ".py",
   "mimetype": "text/x-python",
   "name": "python",
   "nbconvert_exporter": "python",
   "pygments_lexer": "ipython3",
   "version": "3.6.10-final"
  }
 },
 "nbformat": 4,
 "nbformat_minor": 2
}